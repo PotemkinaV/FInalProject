{
 "cells": [
  {
   "cell_type": "markdown",
   "source": [
    "# 1. Data Preprocessing"
   ],
   "metadata": {
    "collapsed": false
   }
  },
  {
   "cell_type": "code",
   "execution_count": 1,
   "outputs": [],
   "source": [
    "import os\n",
    "import warnings\n",
    "\n",
    "import numpy as np\n",
    "import pandas as pd\n",
    "import torch\n",
    "from sklearn.model_selection import train_test_split\n",
    "from torch.utils.data import DataLoader, RandomSampler, SequentialSampler, TensorDataset\n",
    "from tqdm import trange\n",
    "from tqdm.notebook import tqdm\n",
    "from transformers import BertForSequenceClassification, BertTokenizer\n",
    "\n",
    "os.chdir('..')\n",
    "\n",
    "warnings.simplefilter(\"ignore\")"
   ],
   "metadata": {
    "collapsed": false,
    "ExecuteTime": {
     "end_time": "2023-11-02T15:53:41.019956629Z",
     "start_time": "2023-11-02T15:53:37.425465605Z"
    }
   }
  },
  {
   "cell_type": "code",
   "execution_count": 2,
   "outputs": [
    {
     "data": {
      "text/plain": "{'5908cb5da047d6c9e6dfea6337fb3189.doc': 'Договоры поставки',\n '14711e4fc8e56f0c75856c8837ec04cb.doc': 'Договоры поставки',\n '7eb67b5aecf3f3190aab0a5f8ea32172.docx': 'Договоры поставки',\n 'b40a9d048b199d5f4db62a6a2335f2a0.pdf': 'Договоры поставки',\n '84fec112d02288861e7af59f468131fb.docx': 'Договоры поставки',\n 'f6377999f8a5aa9a09b03e428ac93153.doc': 'Договоры поставки',\n 'a525f050cef10dee3a42468daec064ff.doc': 'Договоры поставки',\n 'bec0aa38d1383172690a18d16b07f154.doc': 'Договоры поставки',\n '214d620d9c54bc83111277dd872d3cb2.pdf': 'Договоры поставки',\n 'd143c89d002fcef3e2bd2efdb4966f55.doc': 'Договоры поставки',\n '2fd747f38e30ae7ce1c9d6e3b907ac5d.doc': 'Договоры поставки',\n '4c2c295e81f4a6c3e669e8f76c6ce423.docx': 'Договоры поставки',\n '64f58bc6e1207a570a38d771609b2cf1.docx': 'Договоры поставки',\n '7ecd641f2ad81961c17455ed3ebeb2ab.doc': 'Договоры поставки',\n '4e583dc5a5f1499fd2408f3152589f2d.doc': 'Договоры поставки',\n '79104075f8b2ff971d51c495e67af52c.pdf': 'Договоры поставки',\n '19e2becdb0f10e1c16a5a2460f3a84a2.pdf': 'Договоры поставки',\n '0f7f507d0af90aba3c35484de016d8b4.doc': 'Договоры поставки',\n '69ab7557dee21939aa7432b23a54cb2b.doc': 'Договоры поставки',\n '8b82f3c800e486d9da9a13c98f7a40d6.doc': 'Договоры поставки',\n '856860329f573bbaf158e1eafa885ba5.docx': 'Договоры поставки',\n '35b6a0f57d909507c5aa9a8972b15f35.pdf': 'Договоры оказания услуг',\n 'f28d4a853be12515dae73a5912bc5b41.doc': 'Договоры оказания услуг',\n '2c758805e2917306e6cbb079e2adcfcf.rtf': 'Договоры оказания услуг',\n '4db6b233fda895c3bffcb5fdc5b8e1de.rtf': 'Договоры оказания услуг',\n '18d573815c15b4e798bdfbfb52fb2f43.docx': 'Договоры оказания услуг',\n 'd54c0b06162cf7cf57e8b1e7356aa204.doc': 'Договоры оказания услуг',\n 'a69f5a60f3fd9a081cb0528dd461be45.doc': 'Договоры оказания услуг',\n '41b36e9a90f36be9ed2a2b4f44e5c848.doc': 'Договоры оказания услуг',\n 'b19a67817142ea9f2231aa63dfd2981c.docx': 'Договоры оказания услуг',\n '317e4552102e82bd9e17ba1205cd4367.docx': 'Договоры оказания услуг',\n '67170dee29deff9bc80087a94aef7ea4.doc': 'Договоры оказания услуг',\n 'cbf3217807791a37499a7b8d94616fdc.doc': 'Договоры оказания услуг',\n '259b481366842141111305897cce7486.docx': 'Договоры оказания услуг',\n '6df1c02e4f9adaa9b87126dc3cb2d72b.doc': 'Договоры оказания услуг',\n 'eddc39f5f675890f285014c886bf22c9.doc': 'Договоры оказания услуг',\n '2351cf256df1b683a425211c1ed0e848.doc': 'Договоры оказания услуг',\n '85a65ecc4763c760f914382d6e26b1f1.doc': 'Договоры оказания услуг',\n 'e3f3df754bdf7578a71b7a9fa1500ad9.rtf': 'Договоры оказания услуг',\n '0b4be82b86eff410d69d1d6b5553d220.docx': 'Договоры оказания услуг',\n '736cc87395089b9611b0db70d2999d75.pdf': 'Договоры оказания услуг',\n '7ce2d613ac62ec5e4ef3d988c1f91582.doc': 'Договоры оказания услуг',\n '2060962a8b7ca4c45dc041c3f624225a.doc': 'Договоры оказания услуг',\n 'b95bbf14eb26ac912b1339e321cbca34.doc': 'Договоры оказания услуг',\n '910ccf7c9b029846e4390ddac5f8d687.doc': 'Договоры оказания услуг',\n '82b672721c50b8897a3cf7c98c0d8e0c.rtf': 'Договоры оказания услуг',\n '81a64023bdb74032827385d43181ea3a.pdf': 'Договоры оказания услуг',\n '6cd62be718ceb49408c49e00e7b12a5e.doc': 'Договоры оказания услуг',\n 'f8eabec67b770c384d84f9feb7e02543.doc': 'Договоры оказания услуг',\n 'f96c2a58215aa54aeb6713cbb457fad9.doc': 'Договоры оказания услуг',\n '02682d726b725f95b9ee85f751c043d0.doc': 'Договоры оказания услуг',\n '62e280b12c607701866006e37ad990a5.doc': 'Договоры оказания услуг',\n 'd0e8ce466209873b70ddfdbacf0eef71.doc': 'Договоры оказания услуг',\n '6b18c046e7ccfdaf9123c11980f56c35.doc': 'Договоры подряда',\n '641282d3072e91ab05c97110e0340020.docx': 'Договоры подряда',\n '49bce5af1c98cd017a310ea8edd3e55b.doc': 'Договоры подряда',\n '7a120d4c7cec157324effa671e2d0812.docx': 'Договоры подряда',\n '7aff676ead9fe323b2c542e60accb1ae.doc': 'Договоры подряда',\n 'b7acf29be1d3e4b9cb529683e676fadb.doc': 'Договоры подряда',\n '6babd660f1a9192017a06b7e93bea919.doc': 'Договоры подряда',\n '453b2cb6e4ba7b8d1a8382773880d313.doc': 'Договоры подряда',\n '2b408919fd9833dc3f6892aad753f21f.docx': 'Договоры подряда',\n '8540a7dccb3a9e4d0a1a2611e077ce9d.doc': 'Договоры подряда',\n '66ee9b692a6b9c690564c92121a76b15.doc': 'Договоры подряда',\n '508bdc1406af695fd7ab1f22b69b9857.doc': 'Договоры подряда',\n '981d5a0ebbecffa588848251d0750fec.doc': 'Договоры подряда',\n '3031ff9bc88ad88532311b419267c875.doc': 'Договоры подряда',\n 'e6a90919eab84ecbbdca11016c37b3a9.doc': 'Договоры подряда',\n 'a0e06a957c1a729fe1d978605680e2ae.doc': 'Договоры подряда',\n 'a7966d0674c94a6e752e3a5832edb2a9.doc': 'Договоры подряда',\n '8ee681886de97951748528c7c78d03a7.docx': 'Договоры подряда',\n 'b303afea664ed05cdbc73a8c3b31b09d.docx': 'Договоры подряда',\n '03a70fe60be9ecc2a63798a361fc9689.docx': 'Договоры подряда',\n 'c3141b7956167ce3987b82beb6cf73c4.doc': 'Договоры подряда',\n 'a40a0347f0a91f2537ccc67c46d883b7.doc': 'Договоры аренды',\n '2b25ecf601a9ce0c2a33c8e1d9746df2.doc': 'Договоры аренды',\n 'ef140e96384a29057445d0a889f1ad50.doc': 'Договоры аренды',\n 'bdfb262c00991dddebfc5d4a87604284.doc': 'Договоры аренды',\n '3588ff6fb8f5c5a5f70196500198ca3a.doc': 'Договоры аренды',\n '123c9dd7b2736589f1f286d2112bc4eb.doc': 'Договоры аренды',\n 'cf89a65d4477656ec05262ae55bb6aaa.doc': 'Договоры аренды',\n '616d4446e85de23f29337a6e089c67cb.doc': 'Договоры аренды',\n '2d4708c800dc003466fa9a8a64e2e2b7.docx': 'Договоры аренды',\n '82e5f04228e8d6768de9e4a4c565e89f.doc': 'Договоры аренды',\n '317dc2690741c169db9dc901ff5a3258.docx': 'Договоры аренды',\n '5e9754740f6c89a96cf5996404ec3c27.doc': 'Договоры аренды',\n '855c8450351c98a25ea2ac22a0256c7f.doc': 'Договоры аренды',\n 'a8a9861b63d26f13f0f10a075158b6da.doc': 'Договоры аренды',\n '58c8976ca35aa805aa9d21246d5d18ee.doc': 'Договоры аренды',\n '7e0cf1019baa9e1cdabcfc06d522d424.doc': 'Договоры аренды',\n '242b138fd2025b7a5207876098355e03.docx': 'Договоры аренды',\n 'e6a6d61368866475f346f078cf2cbe60.doc': 'Договоры аренды',\n 'dda3ea2dc3a078682620f926a54aa0bf.doc': 'Договоры аренды',\n '97d4cf03b88c9e040557ab1b61e2e7a2.doc': 'Договоры аренды',\n 'f3734851311f2a7ac6c66ad7ccbe1d2c.doc': 'Договоры аренды',\n '99a11e3e403b7c8b0773108a84839517.doc': 'Договоры аренды',\n '084edc7dfc3db04e3a3c55c102f47bcb.doc': 'Договоры аренды',\n '15e3d16cf68646b3383d386aae2a6849.doc': 'Договоры купли-продажи',\n '073a0d372820c3c2bffe9ba24a7ed7af.doc': 'Договоры купли-продажи',\n '2054a58154349bc54b691666fe3f89b1.pdf': 'Договоры купли-продажи',\n '5262e9c377c3ab1f6b8141762cca69ad.doc': 'Договоры купли-продажи',\n '4a5707e447271a188a1211606b158a94.pdf': 'Договоры купли-продажи',\n '91ba127aad1b88905603ecc3aacac0d1.doc': 'Договоры купли-продажи',\n 'abcec818adbe358f8071a75e0fe2cc49.pdf': 'Договоры купли-продажи',\n '137eaaa047f557233943012897e46cec.doc': 'Договоры купли-продажи',\n 'a2f8675b6d37b6af819ca3fdbb0e3432.pdf': 'Договоры купли-продажи',\n '31d24c0d4694e7c2fb19933b84414b40.doc': 'Договоры купли-продажи',\n '8c5ce9a193c788cadf94ddec5607f3b4.docx': 'Договоры купли-продажи',\n '86d6d0062e91651ccc3d3ce35b162bf8.doc': 'Договоры купли-продажи',\n '086ad48895d2a73854b6151decc28800.pdf': 'Договоры купли-продажи',\n 'bd9b731375abcdb9969af05ec9fb03fa.doc': 'Договоры купли-продажи',\n 'a543a2a59bd604ad1224040b14844b49.docx': 'Договоры купли-продажи',\n '34f5456e56beb78b311728f738167d3a.doc': 'Договоры купли-продажи',\n 'ff6882cb4a3ec31dec18a94e1d1745b1.doc': 'Договоры купли-продажи',\n 'c7a0230f5a8e1cbe7a6bec435b71a43c.docx': 'Договоры купли-продажи',\n 'f57fe87f15a6dee2b17e804421be63b5.pdf': 'Договоры купли-продажи',\n '1ea8809d696a4bd6a2076fbc6fd28c23.doc': 'Договоры купли-продажи',\n '57962abd8dbe0ce0c7056896ee4501f1.doc': 'Договоры купли-продажи',\n '2c81df29db63aebf495106881a52188f.doc': 'Договоры купли-продажи',\n '0ca2f9faecdbc67d6686a9f5b6636eba.doc': 'Договоры купли-продажи'}"
     },
     "execution_count": 2,
     "metadata": {},
     "output_type": "execute_result"
    }
   ],
   "source": [
    "import json\n",
    "\n",
    "# read classes.json\n",
    "with open('data/classes.json', encoding='utf-8') as f:\n",
    "    data = {key: value.split('/')[-1] for (key, value) in json.load(f).items()}\n",
    "data"
   ],
   "metadata": {
    "collapsed": false,
    "ExecuteTime": {
     "end_time": "2023-11-02T15:53:41.024431617Z",
     "start_time": "2023-11-02T15:53:41.017330671Z"
    }
   }
  },
  {
   "cell_type": "code",
   "execution_count": 3,
   "outputs": [
    {
     "data": {
      "text/plain": "['Договоры аренды',\n 'Договоры купли-продажи',\n 'Договоры оказания услуг',\n 'Договоры подряда',\n 'Договоры поставки']"
     },
     "execution_count": 3,
     "metadata": {},
     "output_type": "execute_result"
    }
   ],
   "source": [
    "classes = list(set(list(data.values())))\n",
    "classes.sort()\n",
    "classes"
   ],
   "metadata": {
    "collapsed": false,
    "ExecuteTime": {
     "end_time": "2023-11-02T15:53:41.028215208Z",
     "start_time": "2023-11-02T15:53:41.019734903Z"
    }
   }
  },
  {
   "cell_type": "code",
   "execution_count": 4,
   "outputs": [
    {
     "name": "stderr",
     "output_type": "stream",
     "text": [
      "[nltk_data] Downloading package punkt to /home/werserk/nltk_data...\n",
      "[nltk_data]   Package punkt is already up-to-date!\n"
     ]
    },
    {
     "data": {
      "text/plain": "  0%|          | 0/120 [00:00<?, ?it/s]",
      "application/vnd.jupyter.widget-view+json": {
       "version_major": 2,
       "version_minor": 0,
       "model_id": "2f3c06144dcf4cc2be8ed7a2d9608dc1"
      }
     },
     "metadata": {},
     "output_type": "display_data"
    }
   ],
   "source": [
    "from src.neuro import summarize_file\n",
    "\n",
    "summarize = lambda x: summarize_file(x, sentence_number=5)\n",
    "\n",
    "df = pd.DataFrame({'label': [], 'text': []})\n",
    "for key, value in tqdm(data.items(), total=len(data)):\n",
    "    df.loc[len(df)] = pd.Series({'label': int(classes.index(value)),\n",
    "                                 'text': str(summarize(\n",
    "                                     os.path.join('data', 'docs', key)))})"
   ],
   "metadata": {
    "collapsed": false,
    "pycharm": {
     "is_executing": true
    },
    "ExecuteTime": {
     "end_time": "2023-11-02T15:54:20.305607511Z",
     "start_time": "2023-11-02T15:53:41.020184026Z"
    }
   }
  },
  {
   "cell_type": "code",
   "execution_count": 5,
   "outputs": [
    {
     "data": {
      "text/plain": "  label                                               text\n0     4  \"Поставщик\" гарантирует \"Покупателю\" нормальну...\n1     4  Покупатель имеет право заявить Поставщику об о...\n2     4  Копию железнодорожной квитанции Поставщик пере...\n3     4  2.2.В случае отказа от заказного Товара до его...\n4     4  В письменной форме известить Покупателя (Грузо...",
      "text/html": "<div>\n<style scoped>\n    .dataframe tbody tr th:only-of-type {\n        vertical-align: middle;\n    }\n\n    .dataframe tbody tr th {\n        vertical-align: top;\n    }\n\n    .dataframe thead th {\n        text-align: right;\n    }\n</style>\n<table border=\"1\" class=\"dataframe\">\n  <thead>\n    <tr style=\"text-align: right;\">\n      <th></th>\n      <th>label</th>\n      <th>text</th>\n    </tr>\n  </thead>\n  <tbody>\n    <tr>\n      <th>0</th>\n      <td>4</td>\n      <td>\"Поставщик\" гарантирует \"Покупателю\" нормальну...</td>\n    </tr>\n    <tr>\n      <th>1</th>\n      <td>4</td>\n      <td>Покупатель имеет право заявить Поставщику об о...</td>\n    </tr>\n    <tr>\n      <th>2</th>\n      <td>4</td>\n      <td>Копию железнодорожной квитанции Поставщик пере...</td>\n    </tr>\n    <tr>\n      <th>3</th>\n      <td>4</td>\n      <td>2.2.В случае отказа от заказного Товара до его...</td>\n    </tr>\n    <tr>\n      <th>4</th>\n      <td>4</td>\n      <td>В письменной форме известить Покупателя (Грузо...</td>\n    </tr>\n  </tbody>\n</table>\n</div>"
     },
     "execution_count": 5,
     "metadata": {},
     "output_type": "execute_result"
    }
   ],
   "source": [
    "df.head()"
   ],
   "metadata": {
    "collapsed": false,
    "ExecuteTime": {
     "end_time": "2023-11-02T15:54:20.371117680Z",
     "start_time": "2023-11-02T15:54:20.300127147Z"
    }
   }
  },
  {
   "cell_type": "code",
   "execution_count": 6,
   "outputs": [],
   "source": [
    "df['label'] = df['label'].astype('uint8')\n",
    "df['text'] = df['text'].astype('str')"
   ],
   "metadata": {
    "collapsed": false,
    "ExecuteTime": {
     "end_time": "2023-11-02T15:54:20.396350804Z",
     "start_time": "2023-11-02T15:54:20.340821533Z"
    }
   }
  },
  {
   "cell_type": "code",
   "execution_count": 7,
   "outputs": [
    {
     "name": "stdout",
     "output_type": "stream",
     "text": [
      "<class 'pandas.core.frame.DataFrame'>\n",
      "Index: 120 entries, 0 to 119\n",
      "Data columns (total 2 columns):\n",
      " #   Column  Non-Null Count  Dtype \n",
      "---  ------  --------------  ----- \n",
      " 0   label   120 non-null    uint8 \n",
      " 1   text    120 non-null    object\n",
      "dtypes: object(1), uint8(1)\n",
      "memory usage: 2.0+ KB\n"
     ]
    }
   ],
   "source": [
    "df.info()"
   ],
   "metadata": {
    "collapsed": false,
    "ExecuteTime": {
     "end_time": "2023-11-02T15:54:20.482970637Z",
     "start_time": "2023-11-02T15:54:20.341076527Z"
    }
   }
  },
  {
   "cell_type": "code",
   "execution_count": 8,
   "outputs": [],
   "source": [
    "tokenizer = BertTokenizer.from_pretrained(\n",
    "    'DeepPavlov/rubert-base-cased',\n",
    "    do_lower_case=False\n",
    ")"
   ],
   "metadata": {
    "collapsed": false,
    "ExecuteTime": {
     "end_time": "2023-11-02T15:54:20.703400077Z",
     "start_time": "2023-11-02T15:54:20.341275394Z"
    }
   }
  },
  {
   "cell_type": "code",
   "execution_count": 9,
   "outputs": [
    {
     "name": "stderr",
     "output_type": "stream",
     "text": [
      "Truncation was not explicitly activated but `max_length` is provided a specific value, please use `truncation=True` to explicitly truncate examples to max length. Defaulting to 'longest_first' truncation strategy. If you encode pairs of sequences (GLUE-style) with the tokenizer you can select this strategy more precisely by providing a specific strategy to `truncation`.\n"
     ]
    }
   ],
   "source": [
    "input_ids = []\n",
    "attention_masks = []\n",
    "texts = df['text'].values\n",
    "labels = df['label'].values\n",
    "\n",
    "for text in texts:\n",
    "    encoded_dict = tokenizer.encode_plus(text, add_special_tokens=True, max_length=512, pad_to_max_length=True,\n",
    "                                         return_attention_mask=True, return_tensors='pt')\n",
    "    input_ids.append(encoded_dict['input_ids'])\n",
    "    attention_masks.append(encoded_dict['attention_mask'])\n",
    "\n",
    "input_ids = torch.cat(input_ids, dim=0)\n",
    "attention_masks = torch.cat(attention_masks, dim=0)\n",
    "labels = torch.tensor(labels)"
   ],
   "metadata": {
    "collapsed": false,
    "ExecuteTime": {
     "end_time": "2023-11-02T15:54:20.914043189Z",
     "start_time": "2023-11-02T15:54:20.705227423Z"
    }
   }
  },
  {
   "cell_type": "code",
   "execution_count": 10,
   "outputs": [
    {
     "data": {
      "text/plain": "(torch.Size([120, 64]), torch.Size([120, 64]), torch.Size([120]))"
     },
     "execution_count": 10,
     "metadata": {},
     "output_type": "execute_result"
    }
   ],
   "source": [
    "input_ids.shape, attention_masks.shape, labels.shape "
   ],
   "metadata": {
    "collapsed": false,
    "ExecuteTime": {
     "end_time": "2023-11-02T15:54:20.962086552Z",
     "start_time": "2023-11-02T15:54:20.916139805Z"
    }
   }
  },
  {
   "cell_type": "code",
   "execution_count": 11,
   "outputs": [],
   "source": [
    "val_ratio = 0.2\n",
    "# Recommended batch size: 16, 32. See: https://arxiv.org/pdf/1810.04805.pdf\n",
    "batch_size = 10\n",
    "\n",
    "# Indices of the train and validation splits stratified by labels\n",
    "train_idx, val_idx = train_test_split(\n",
    "    np.arange(len(labels)),\n",
    "    test_size=val_ratio,\n",
    "    shuffle=True,\n",
    "    stratify=labels)\n",
    "\n",
    "# Train and validation sets\n",
    "train_set = TensorDataset(input_ids[train_idx],\n",
    "                          attention_masks[train_idx],\n",
    "                          labels[train_idx])\n",
    "\n",
    "val_set = TensorDataset(input_ids[val_idx],\n",
    "                        attention_masks[val_idx],\n",
    "                        labels[val_idx])\n",
    "\n",
    "# Prepare DataLoader\n",
    "train_dataloader = DataLoader(\n",
    "    train_set,\n",
    "    sampler=RandomSampler(train_set),\n",
    "    batch_size=batch_size\n",
    ")\n",
    "\n",
    "validation_dataloader = DataLoader(\n",
    "    val_set,\n",
    "    sampler=SequentialSampler(val_set),\n",
    "    batch_size=batch_size\n",
    ")"
   ],
   "metadata": {
    "collapsed": false,
    "ExecuteTime": {
     "end_time": "2023-11-02T15:54:20.982918108Z",
     "start_time": "2023-11-02T15:54:20.957297490Z"
    }
   }
  },
  {
   "cell_type": "code",
   "execution_count": 12,
   "outputs": [
    {
     "data": {
      "text/plain": "(12, 3)"
     },
     "execution_count": 12,
     "metadata": {},
     "output_type": "execute_result"
    }
   ],
   "source": [
    "len(train_dataloader), len(validation_dataloader)"
   ],
   "metadata": {
    "collapsed": false,
    "ExecuteTime": {
     "end_time": "2023-11-02T15:54:21.032414190Z",
     "start_time": "2023-11-02T15:54:20.958101464Z"
    }
   }
  },
  {
   "cell_type": "code",
   "execution_count": 13,
   "outputs": [],
   "source": [
    "def b_metrics(preds, labels):\n",
    "    preds = np.argmax(preds, axis=1).flatten()\n",
    "    labels = labels.flatten()\n",
    "    b_accuracy = (preds == labels).mean()\n",
    "    return b_accuracy"
   ],
   "metadata": {
    "collapsed": false,
    "ExecuteTime": {
     "end_time": "2023-11-02T15:54:21.068377133Z",
     "start_time": "2023-11-02T15:54:20.958765534Z"
    }
   }
  },
  {
   "cell_type": "code",
   "execution_count": 14,
   "outputs": [
    {
     "name": "stderr",
     "output_type": "stream",
     "text": [
      "Some weights of BertForSequenceClassification were not initialized from the model checkpoint at DeepPavlov/rubert-base-cased and are newly initialized: ['classifier.bias', 'classifier.weight']\n",
      "You should probably TRAIN this model on a down-stream task to be able to use it for predictions and inference.\n"
     ]
    }
   ],
   "source": [
    "# Load the BertForSequenceClassification model\n",
    "model = BertForSequenceClassification.from_pretrained(\n",
    "    'DeepPavlov/rubert-base-cased',\n",
    "    num_labels=len(classes),\n",
    ")\n",
    "model.config.problem_type = 'single_label_classification'\n",
    "\n",
    "# Recommended learning rates (Adam): 5e-5, 3e-5, 2e-5. See: https://arxiv.org/pdf/1810.04805.pdf\n",
    "optimizer = torch.optim.AdamW(model.parameters(),\n",
    "                              lr=5e-5,\n",
    "                              eps=1e-08\n",
    "                              )"
   ],
   "metadata": {
    "collapsed": false,
    "ExecuteTime": {
     "end_time": "2023-11-02T15:54:23.628966139Z",
     "start_time": "2023-11-02T15:54:20.959332669Z"
    }
   }
  },
  {
   "cell_type": "code",
   "execution_count": 12,
   "outputs": [
    {
     "name": "stderr",
     "output_type": "stream",
     "text": [
      "Epoch:  33%|███▎      | 1/3 [00:02<00:05,  2.72s/it]"
     ]
    },
    {
     "name": "stdout",
     "output_type": "stream",
     "text": [
      "\n",
      "\t - Train loss: 1.6537\n",
      "\t - Validation loss: 1.5373\n",
      "\t - Validation Accuracy: 0.3167\n"
     ]
    },
    {
     "name": "stderr",
     "output_type": "stream",
     "text": [
      "Epoch:  67%|██████▋   | 2/3 [00:04<00:02,  2.22s/it]"
     ]
    },
    {
     "name": "stdout",
     "output_type": "stream",
     "text": [
      "\n",
      "\t - Train loss: 1.3244\n",
      "\t - Validation loss: 0.7701\n",
      "\t - Validation Accuracy: 1.0000\n"
     ]
    },
    {
     "name": "stderr",
     "output_type": "stream",
     "text": [
      "Epoch: 100%|██████████| 3/3 [00:06<00:00,  2.15s/it]"
     ]
    },
    {
     "name": "stdout",
     "output_type": "stream",
     "text": [
      "\n",
      "\t - Train loss: 0.6676\n",
      "\t - Validation loss: 0.2184\n",
      "\t - Validation Accuracy: 1.0000\n"
     ]
    },
    {
     "name": "stderr",
     "output_type": "stream",
     "text": [
      "\n"
     ]
    }
   ],
   "source": [
    "device = torch.device('cuda' if torch.cuda.is_available() else 'cpu')\n",
    "model.to(device)\n",
    "# Recommended number of epochs: 2, 3, 4. See: https://arxiv.org/pdf/1810.04805.pdf\n",
    "epochs = 3\n",
    "\n",
    "for _ in trange(epochs, desc='Epoch'):\n",
    "\n",
    "    # ========== Training ==========\n",
    "\n",
    "    # Set model to training mode\n",
    "    model.train()\n",
    "\n",
    "    # Tracking variables\n",
    "    tr_loss = 0\n",
    "    nb_tr_examples, nb_tr_steps = 0, 0\n",
    "\n",
    "    for step, batch in enumerate(train_dataloader):\n",
    "        batch = tuple(t.to(device) for t in batch)\n",
    "        b_input_ids, b_input_mask, b_labels = batch\n",
    "        optimizer.zero_grad()\n",
    "        # Forward pass\n",
    "        train_output = model(b_input_ids,\n",
    "                             attention_mask=b_input_mask,\n",
    "                             labels=b_labels)\n",
    "        # Backward pass\n",
    "        train_output.loss.backward()\n",
    "        optimizer.step()\n",
    "        # Update tracking variables\n",
    "        tr_loss += train_output.loss.item()\n",
    "        nb_tr_examples += b_input_ids.size(0)\n",
    "        nb_tr_steps += 1\n",
    "\n",
    "    # ========== Validation ==========\n",
    "\n",
    "    # Set model to evaluation mode\n",
    "    model.eval()\n",
    "\n",
    "    # Tracking variables\n",
    "    val_accuracy = []\n",
    "    val_loss = 0\n",
    "    for batch in validation_dataloader:\n",
    "        batch = tuple(t.to(device) for t in batch)\n",
    "        b_input_ids, b_input_mask, b_labels = batch\n",
    "        with torch.no_grad():\n",
    "            # Forward pass\n",
    "            eval_output = model(b_input_ids,\n",
    "                                attention_mask=b_input_mask,\n",
    "                                labels=b_labels)\n",
    "            val_loss += eval_output.loss.item()\n",
    "        logits = eval_output.logits.detach().cpu().numpy()\n",
    "        label_ids = b_labels.to('cpu').numpy()\n",
    "        # Calculate validation metrics\n",
    "        b_accuracy = b_metrics(logits, label_ids)\n",
    "        val_accuracy.append(b_accuracy)\n",
    "\n",
    "    print('\\n\\t - Train loss: {:.4f}'.format(tr_loss / nb_tr_steps))\n",
    "    print('\\t - Validation loss: {:.4f}'.format(val_loss / len(validation_dataloader)))\n",
    "    print('\\t - Validation Accuracy: {:.4f}'.format(\n",
    "        sum(val_accuracy) / len(val_accuracy)))"
   ],
   "metadata": {
    "collapsed": false,
    "ExecuteTime": {
     "end_time": "2023-11-02T15:54:25.860720896Z",
     "start_time": "2023-11-02T15:54:23.633226085Z"
    }
   }
  },
  {
   "cell_type": "code",
   "execution_count": 16,
   "outputs": [
    {
     "data": {
      "text/plain": "('../data/model_weights/tokenizer_config.json',\n '../data/model_weights/special_tokens_map.json',\n '../data/model_weights/vocab.txt',\n '../data/model_weights/added_tokens.json')"
     },
     "execution_count": 16,
     "metadata": {},
     "output_type": "execute_result"
    }
   ],
   "source": [
    "# Save the model\n",
    "from src.config import MODEL_PATH\n",
    "\n",
    "model.save_pretrained(MODEL_PATH)\n",
    "tokenizer.save_pretrained(MODEL_PATH)"
   ],
   "metadata": {
    "collapsed": false,
    "ExecuteTime": {
     "end_time": "2023-11-02T15:54:27.407453863Z",
     "start_time": "2023-11-02T15:54:25.801863299Z"
    }
   }
  }
 ],
 "metadata": {
  "kernelspec": {
   "display_name": "Python 3",
   "language": "python",
   "name": "python3"
  },
  "language_info": {
   "codemirror_mode": {
    "name": "ipython",
    "version": 2
   },
   "file_extension": ".py",
   "mimetype": "text/x-python",
   "name": "python",
   "nbconvert_exporter": "python",
   "pygments_lexer": "ipython2",
   "version": "2.7.6"
  }
 },
 "nbformat": 4,
 "nbformat_minor": 0
}
